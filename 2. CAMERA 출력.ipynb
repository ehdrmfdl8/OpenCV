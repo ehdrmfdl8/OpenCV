{
 "cells": [
  {
   "cell_type": "markdown",
   "metadata": {},
   "source": [
    "# Camera 출력"
   ]
  },
  {
   "cell_type": "markdown",
   "metadata": {},
   "source": [
    "내장 카메라 또는 외장 카메라에서 이미지를 얻어와 프레임을 재생할 수 있습니다."
   ]
  },
  {
   "cell_type": "markdown",
   "metadata": {},
   "source": [
    "# Main Code"
   ]
  },
  {
   "cell_type": "code",
   "execution_count": 3,
   "metadata": {},
   "outputs": [],
   "source": [
    "import cv2\n",
    "\n",
    "capture = cv2.VideoCapture(0)\n",
    "capture.set(cv2.CAP_PROP_FRAME_WIDTH, 640)\n",
    "capture.set(cv2.CAP_PROP_FRAME_HEIGHT,480)\n",
    "\n",
    "while True:\n",
    "    ret, frame = capture.read()\n",
    "    cv2.imshow(\"VideoFrame\", frame)\n",
    "    if cv2.waitKey(1) > 0 : break\n",
    "        \n",
    "capture.release()\n",
    "cv2.destroyAllWindows()"
   ]
  },
  {
   "cell_type": "markdown",
   "metadata": {},
   "source": [
    "# Detailed Code"
   ]
  },
  {
   "cell_type": "code",
   "execution_count": 4,
   "metadata": {},
   "outputs": [],
   "source": [
    "capture = cv2.VideoCapture(0)"
   ]
  },
  {
   "attachments": {},
   "cell_type": "markdown",
   "metadata": {},
   "source": [
    "cv2.vidiocapture(n) 을 이용하여 내장카메라 또는 외장 카메라에서 영상을 받아옵니다.\n",
    "\n",
    "n 은 카메라의 장치 번호를 의미합니다. 노트북을 이용할 경우, 내장 카메라가 존재하므로 \n",
    "카메라의 장치번호는 0이 됩니다.\n",
    "\n",
    "카메라를 추가적으로 연결하여 외장카메라를 사용하는 경우, 장치번호가 1~n까지 변화합니다."
   ]
  },
  {
   "cell_type": "code",
   "execution_count": 5,
   "metadata": {},
   "outputs": [
    {
     "data": {
      "text/plain": [
       "True"
      ]
     },
     "execution_count": 5,
     "metadata": {},
     "output_type": "execute_result"
    }
   ],
   "source": [
    "capture.set(cv2.CAP_PROP_FRAME_WIDTH, 640)\n",
    "capture.set(cv2.CAP_PROP_FRAME_HEIGHT,480)"
   ]
  },
  {
   "cell_type": "markdown",
   "metadata": {},
   "source": [
    "capture.set(option,n)을 이용하여 카메라의 속성을 설정할 수 있습니다.\n",
    "\n",
    "option은 프레임의 너비와 높이 등의 속성을 설정할 수 있습니다.\n",
    "\n",
    "n의 경우 해당 너비와 높이의 값을 의미합니다."
   ]
  },
  {
   "cell_type": "code",
   "execution_count": 6,
   "metadata": {},
   "outputs": [],
   "source": [
    "while True:\n",
    "    ret, frame = capture.read()\n",
    "    cv2.imshow(\"VideoFrame\", frame)\n",
    "    if cv2.waitKey(1) > 0 : break"
   ]
  },
  {
   "cell_type": "markdown",
   "metadata": {},
   "source": [
    "while문을 이용하여 영상 출력을 반복합니다.\n",
    "\n",
    "capture.read()를 이용하여 카메라의 상태 및 프레임을 받아옵니다.\n",
    "\n",
    "ret은 카메라의 상태가 저장되며 정상 작동할 경우 True를 반환합니다. 작동하지 않을 경우 False를 반환합니다.\n",
    "\n",
    "frame에 현재 프레임이 저장됩니다.\n",
    "\n",
    "cv2.imshow(\"윈도우 창 제목\", 이미지)를 이용하여 윈도우 창에 이미지를 띄웁니다.\n",
    "\n",
    "if문을 이용하여 키 입력이 있을 때 까지 while문을 반복합니다.\n",
    "\n",
    "cv2.waitkey(time)이며 time마다 키 입력상태를 받아옵니다.\n",
    "\n",
    "키가 입력될 경우, 해당 키의 아스키 값을 반환합니다.\n",
    "\n",
    "즉, 어떤 키라도 누를 경우, break하여 while문을 종료합니다.\n",
    "\n",
    "Tip : time이 0일 경우, 지속적으로 검사하여 프레임이 넘어가지 않습니다.\n",
    "\n",
    "Tip : if cv2.waitKey(1) == ord('q'): break으로 사용할 경우, q가 입력될 때 while문을 종료합니다."
   ]
  },
  {
   "cell_type": "code",
   "execution_count": 7,
   "metadata": {},
   "outputs": [],
   "source": [
    "capture.release()\n",
    "cv2.destroyAllWindows()"
   ]
  },
  {
   "cell_type": "markdown",
   "metadata": {},
   "source": [
    "capture.release()를 통하여 카메라 장치에서 받아온 메모리를 해제합니다.\n",
    "cv2.destroyAllWindow()를 이용하여 모든 윈도우창을 닫습니다.\n",
    "Tip: cv2.destroyWindow(\"윈도우 창 제목\")을 이용하여 특정 윈도우 창만 닫을수 있습니다."
   ]
  },
  {
   "cell_type": "code",
   "execution_count": null,
   "metadata": {},
   "outputs": [],
   "source": []
  }
 ],
 "metadata": {
  "kernelspec": {
   "display_name": "Python 3",
   "language": "python",
   "name": "python3"
  },
  "language_info": {
   "codemirror_mode": {
    "name": "ipython",
    "version": 3
   },
   "file_extension": ".py",
   "mimetype": "text/x-python",
   "name": "python",
   "nbconvert_exporter": "python",
   "pygments_lexer": "ipython3",
   "version": "3.6.8"
  }
 },
 "nbformat": 4,
 "nbformat_minor": 2
}
