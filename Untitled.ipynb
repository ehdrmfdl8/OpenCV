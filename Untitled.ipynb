{
 "cells": [
  {
   "cell_type": "code",
   "execution_count": 1,
   "metadata": {},
   "outputs": [],
   "source": [
    "import cv2\n",
    "\n",
    "capture = cv2.VideoCapture(0)\n",
    "capture.set(cv2.CAP_PROP_FRAME_WIDTH, 640)\n",
    "capture.set(cv2.CAP_PROP_FRAME_HEIGHT, 480)\n",
    "\n",
    "while True:\n",
    "    ret, frame = capture.read()\n",
    "    gray = cv2.cvtColor(frame, cv2.COLOR_RGB2GRAY) #흑백전환\n",
    "    ret, dst = cv2.threshold(gray, 100, 255, cv2.THRESH_BINARY)\n",
    "    \n",
    "    canny = cv2.Canny(frame, 100, 200)\n",
    "    sobel = cv2.Sobel(gray, cv2.CV_8U, 1, 0, 3)\n",
    "    laplacian = cv2.Laplacian(gray, cv2.CV_8U, ksize = 3)\n",
    "    \n",
    "    cv2.imshow(\"VideoFrame\", laplacian)\n",
    "    if cv2.waitKey(1) > 0: break\n",
    "\n",
    "capture.release()\n",
    "cv2.destroyAllWindows()"
   ]
  },
  {
   "cell_type": "code",
   "execution_count": null,
   "metadata": {},
   "outputs": [],
   "source": []
  }
 ],
 "metadata": {
  "kernelspec": {
   "display_name": "Python 3",
   "language": "python",
   "name": "python3"
  },
  "language_info": {
   "codemirror_mode": {
    "name": "ipython",
    "version": 3
   },
   "file_extension": ".py",
   "mimetype": "text/x-python",
   "name": "python",
   "nbconvert_exporter": "python",
   "pygments_lexer": "ipython3",
   "version": "3.6.8"
  }
 },
 "nbformat": 4,
 "nbformat_minor": 2
}
